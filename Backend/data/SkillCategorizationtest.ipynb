{
 "cells": [
  {
   "cell_type": "code",
   "execution_count": 39,
   "id": "903cb55a-a1c5-41c3-a66c-39ee9a3d113e",
   "metadata": {},
   "outputs": [],
   "source": [
    "from tqdm import tqdm\n"
   ]
  },
  {
   "cell_type": "code",
   "execution_count": 1,
   "id": "1b2f7066-44d2-4455-a9ea-39ec4b3769b0",
   "metadata": {},
   "outputs": [],
   "source": [
    "import spacy\n"
   ]
  },
  {
   "cell_type": "code",
   "execution_count": 2,
   "id": "494004a5-bad6-4514-9242-41609c0713d1",
   "metadata": {},
   "outputs": [],
   "source": [
    "from sentence_transformers import SentenceTransformer, util\n"
   ]
  },
  {
   "cell_type": "code",
   "execution_count": 4,
   "id": "338300db-3126-40f1-a951-94c4d4816c0c",
   "metadata": {},
   "outputs": [],
   "source": [
    "nlp = spacy.load(\"model-best\")"
   ]
  },
  {
   "cell_type": "code",
   "execution_count": 5,
   "id": "0877d2ac-d11b-4bb5-8ee7-0dfd6529257e",
   "metadata": {},
   "outputs": [],
   "source": [
    "model = SentenceTransformer(\"all-mpnet-base-v2\")"
   ]
  },
  {
   "cell_type": "code",
   "execution_count": 6,
   "id": "ff472f59-8251-4674-b675-582e5e5e9c0c",
   "metadata": {},
   "outputs": [],
   "source": [
    "category_labels = [\n",
    "    \"Backend Development\",\n",
    "    \"Frontend Development\",\n",
    "    \"Machine Learning\",\n",
    "    \"Soft Skills\",\n",
    "    \"Tools & Platforms\",\n",
    "    \"Certifications\"\n",
    "]\n",
    "\n",
    "category_descriptions = [\n",
    "    \"Technologies for server-side programming like Node.js, MongoDB, Express.js, SQL.\",\n",
    "    \"Technologies for client-side web development like React, HTML, CSS, and JavaScript.\",\n",
    "    \"AI libraries and frameworks such as TensorFlow, PyTorch, Scikit-Learn.\",\n",
    "    \"Non-technical skills including communication, leadership, and teamwork.\",\n",
    "    \"Tools for development and deployment like Docker, Kubernetes, and JIRA.\",\n",
    "    \"Professional certifications like AWS Certified Solutions Architect, PMP, Scrum Master.\"\n",
    "]"
   ]
  },
  {
   "cell_type": "code",
   "execution_count": 7,
   "id": "a4341c0f-1a68-4d2e-9dcf-2a723e6e1a54",
   "metadata": {},
   "outputs": [],
   "source": [
    "category_embeddings = model.encode(category_descriptions, convert_to_tensor=True)\n"
   ]
  },
  {
   "cell_type": "code",
   "execution_count": 8,
   "id": "09a21303-0331-4502-b80a-2f11a4cbc1e3",
   "metadata": {},
   "outputs": [],
   "source": [
    "def hybrid_categorize_skill(text, threshold=0.20):\n",
    "    \"\"\"Use NER first, then Sentence Transformers for skill categorization.\"\"\"\n",
    "    # Step 1: Apply the NER model\n",
    "    doc = nlp(text)\n",
    "    ner_extracted_skills = [ent.text for ent in doc.ents if ent.label_ == \"SKILL\"]\n",
    "\n",
    "    # If NER detects skills, use them for classification\n",
    "    if ner_extracted_skills:\n",
    "        print(f\"NER Identified Skills: {ner_extracted_skills}\")\n",
    "\n",
    "        # Step 2: Use Sentence Transformer for classification\n",
    "        skill_embeddings = model.encode(ner_extracted_skills, convert_to_tensor=True)\n",
    "        similarity_scores = util.pytorch_cos_sim(skill_embeddings, category_embeddings)\n",
    "\n",
    "        # Generate category scores for each skill\n",
    "        categorized_skills = {}\n",
    "        for i, skill in enumerate(ner_extracted_skills):\n",
    "            scores = similarity_scores[i]\n",
    "            categorized_skills[skill] = [\n",
    "                (category_labels[idx], score.item())\n",
    "                for idx, score in enumerate(scores) if score.item() >= threshold\n",
    "            ]\n",
    "\n",
    "        return categorized_skills\n",
    "    else:\n",
    "        return {\"No Skill Identified\": []}\n",
    "\n",
    "\n"
   ]
  },
  {
   "cell_type": "code",
   "execution_count": 9,
   "id": "e841169c-206d-4b9a-838c-cec9c8ba35a5",
   "metadata": {},
   "outputs": [
    {
     "name": "stdout",
     "output_type": "stream",
     "text": [
      "NER Identified Skills: ['Node.js', 'React', 'TensorFlow']\n",
      "{'Node.js': [('Backend Development', 0.5805199146270752), ('Frontend Development', 0.40711545944213867), ('Machine Learning', 0.22635707259178162), ('Tools & Platforms', 0.29266947507858276)], 'React': [('Backend Development', 0.2110331505537033), ('Frontend Development', 0.3913450539112091), ('Machine Learning', 0.20248757302761078)], 'TensorFlow': [('Machine Learning', 0.5825697779655457)]}\n"
     ]
    }
   ],
   "source": [
    "text = \"We need a developer skilled in Node.js, React, and TensorFlow.\"\n",
    "results = hybrid_categorize_skill(text)\n",
    "print(results)"
   ]
  },
  {
   "cell_type": "code",
   "execution_count": 10,
   "id": "69e4adc3-7db0-40f6-bcc4-8314cb1c16ec",
   "metadata": {},
   "outputs": [],
   "source": [
    "from sentence_transformers import InputExample\n"
   ]
  },
  {
   "cell_type": "code",
   "execution_count": 11,
   "id": "21450b1c-e809-40a7-97cb-382f34ac5abf",
   "metadata": {},
   "outputs": [],
   "source": [
    "train_examples = [\n",
    "    InputExample(texts=[\"Node.js\", \"Backend Development\"], label=1.0),\n",
    "    InputExample(texts=[\"React\", \"Frontend Development\"], label=1.0),\n",
    "    InputExample(texts=[\"TensorFlow\", \"Machine Learning\"], label=1.0),\n",
    "    InputExample(texts=[\"Node.js\", \"Machine Learning\"], label=0.2),\n",
    "    InputExample(texts=[\"PyTorch\", \"Machine Learning\"], label=1.0),\n",
    "    InputExample(texts=[\"JavaScript\", \"Frontend Development\"], label=1.0),\n",
    "    InputExample(texts=[\"Python\", \"Backend Development\"], label=1.0),\n",
    "    InputExample(texts=[\"Django\", \"Backend Development\"], label=1.0),\n",
    "    InputExample(texts=[\"Keras\", \"Machine Learning\"], label=1.0),\n",
    "]\n"
   ]
  },
  {
   "cell_type": "code",
   "execution_count": 12,
   "id": "2df9f820-be3a-40ea-9401-26aa3216c76c",
   "metadata": {},
   "outputs": [
    {
     "data": {
      "text/html": [
       "\n",
       "    <div>\n",
       "      \n",
       "      <progress value='10' max='10' style='width:300px; height:20px; vertical-align: middle;'></progress>\n",
       "      [10/10 00:11, Epoch 5/5]\n",
       "    </div>\n",
       "    <table border=\"1\" class=\"dataframe\">\n",
       "  <thead>\n",
       " <tr style=\"text-align: left;\">\n",
       "      <th>Step</th>\n",
       "      <th>Training Loss</th>\n",
       "    </tr>\n",
       "  </thead>\n",
       "  <tbody>\n",
       "  </tbody>\n",
       "</table><p>"
      ],
      "text/plain": [
       "<IPython.core.display.HTML object>"
      ]
     },
     "metadata": {},
     "output_type": "display_data"
    },
    {
     "data": {
      "application/vnd.jupyter.widget-view+json": {
       "model_id": "9a6cf2deeb6342018228336d1f39c507",
       "version_major": 2,
       "version_minor": 0
      },
      "text/plain": [
       "Computing widget examples:   0%|          | 0/1 [00:00<?, ?example/s]"
      ]
     },
     "metadata": {},
     "output_type": "display_data"
    }
   ],
   "source": [
    "from torch.utils.data import DataLoader\n",
    "from sentence_transformers import losses\n",
    "\n",
    "# Prepare the dataloader and loss function\n",
    "train_dataloader = DataLoader(train_examples, batch_size=8, shuffle=True)\n",
    "train_loss = losses.CosineSimilarityLoss(model)\n",
    "\n",
    "\n",
    "# Fine-tune with more epochs and reduced warmup steps\n",
    "model.fit(\n",
    "    train_objectives=[(train_dataloader, train_loss)],\n",
    "    epochs=5,                    # Increased epochs for better training\n",
    "    warmup_steps=10,             # Reduced warmup steps for smaller datasets\n",
    "    show_progress_bar=True\n",
    ")\n",
    "\n",
    "\n",
    "# Save the fine-tuned model\n",
    "model.save(\"fine_tuned_sentence_transformer\")\n"
   ]
  },
  {
   "cell_type": "code",
   "execution_count": 13,
   "id": "4e998045-3721-416a-a1cc-b5c71c5a7c8e",
   "metadata": {},
   "outputs": [],
   "source": [
    "fine_tuned_model = SentenceTransformer(\"fine_tuned_sentence_transformer\")\n",
    "test_pairs = [\n",
    "    (\"Node.js\", \"Backend Development\"),  # Strong match\n",
    "    (\"React\", \"Frontend Development\"),   # Strong match\n",
    "    (\"TensorFlow\", \"Machine Learning\"),  # Strong match\n",
    "    (\"Node.js\", \"Machine Learning\")      # Weaker match\n",
    "]"
   ]
  },
  {
   "cell_type": "code",
   "execution_count": 14,
   "id": "e303f712-803e-4635-b132-75fa398f8d96",
   "metadata": {},
   "outputs": [
    {
     "name": "stdout",
     "output_type": "stream",
     "text": [
      "\n",
      "Original Model vs Fine-Tuned Model Comparison:\n",
      "\n",
      "Skill Pair: ('Node.js', 'Backend Development')\n",
      "Original Model Similarity: 0.7845\n",
      "Fine-Tuned Model Similarity: 0.7845\n",
      "\n",
      "Skill Pair: ('React', 'Frontend Development')\n",
      "Original Model Similarity: 0.7154\n",
      "Fine-Tuned Model Similarity: 0.7154\n",
      "\n",
      "Skill Pair: ('TensorFlow', 'Machine Learning')\n",
      "Original Model Similarity: 0.8874\n",
      "Fine-Tuned Model Similarity: 0.8874\n",
      "\n",
      "Skill Pair: ('Node.js', 'Machine Learning')\n",
      "Original Model Similarity: 0.5171\n",
      "Fine-Tuned Model Similarity: 0.5171\n",
      "\n"
     ]
    }
   ],
   "source": [
    "def compare_models(test_pairs):\n",
    "    print(\"\\nOriginal Model vs Fine-Tuned Model Comparison:\\n\")\n",
    "    for pair in test_pairs:\n",
    "        # Generate embeddings for both terms in the pair\n",
    "        original_embeddings = model.encode(pair)\n",
    "        fine_tuned_embeddings = fine_tuned_model.encode(pair)\n",
    "\n",
    "        # Calculate cosine similarity\n",
    "        original_score = util.cos_sim(original_embeddings[0], original_embeddings[1]).item()\n",
    "        fine_tuned_score = util.cos_sim(fine_tuned_embeddings[0], fine_tuned_embeddings[1]).item()\n",
    "        \n",
    "        # Display results\n",
    "        print(f\"Skill Pair: {pair}\")\n",
    "        print(f\"Original Model Similarity: {original_score:.4f}\")\n",
    "        print(f\"Fine-Tuned Model Similarity: {fine_tuned_score:.4f}\\n\")\n",
    "\n",
    "# Call the corrected comparison function\n",
    "compare_models(test_pairs)"
   ]
  },
  {
   "cell_type": "code",
   "execution_count": 16,
   "id": "a0cc8520-bd5d-4e5e-a7c4-f35ac5e72fbb",
   "metadata": {},
   "outputs": [
    {
     "name": "stdout",
     "output_type": "stream",
     "text": [
      "NER Identified Skills: ['Node.js', 'React', 'TensorFlow']\n",
      "{'Node.js': [('Backend Development', 0.7007930278778076), ('Frontend Development', 0.5783318281173706), ('Machine Learning', 0.4337933361530304), ('Tools & Platforms', 0.4844152629375458), ('Certifications', 0.2694885730743408)], 'React': [('Backend Development', 0.4450684189796448), ('Frontend Development', 0.525682270526886), ('Machine Learning', 0.38867056369781494), ('Tools & Platforms', 0.35801786184310913)], 'TensorFlow': [('Backend Development', 0.24374143779277802), ('Frontend Development', 0.23437459766864777), ('Machine Learning', 0.6306157112121582), ('Tools & Platforms', 0.2568182945251465)]}\n"
     ]
    }
   ],
   "source": [
    "text = \"We need a developer skilled in Node.js, React, and TensorFlow.\"\n",
    "results = hybrid_categorize_skill(text)\n",
    "print(results)"
   ]
  },
  {
   "cell_type": "code",
   "execution_count": 51,
   "id": "025fbe55-38ee-48b0-9ee0-0a21b86714cc",
   "metadata": {},
   "outputs": [],
   "source": [
    "def categorize_skill_multi(skill_name, threshold=0.20):\n",
    "    \"\"\"Categorize a skill into multiple categories with scores.\"\"\"\n",
    "    skill_embedding = model.encode(skill_name, convert_to_tensor=True)\n",
    "    similarity_scores = util.pytorch_cos_sim(skill_embedding, category_embeddings)[0]\n",
    "\n",
    "    # Return all categories with scores above the threshold\n",
    "    category_scores = [\n",
    "        (category_labels[idx], score.item())\n",
    "        for idx, score in enumerate(similarity_scores)  # Corrected to use indexing instead of keys()\n",
    "        if score.item() >= threshold\n",
    "    ]\n",
    "\n",
    "    # Sort categories by score in descending order\n",
    "    category_scores.sort(key=lambda x: x[1], reverse=True)\n",
    "    return category_scores"
   ]
  },
  {
   "cell_type": "code",
   "execution_count": 53,
   "id": "36ec0a9e-7b27-4c42-8849-f2d2c47939ae",
   "metadata": {},
   "outputs": [
    {
     "name": "stdout",
     "output_type": "stream",
     "text": [
      "Node.js -> [('Backend Development', 0.5805199146270752), ('Frontend Development', 0.40711551904678345), ('Tools & Platforms', 0.29266950488090515), ('Machine Learning', 0.22635704278945923)]\n",
      "React -> [('Frontend Development', 0.39134514331817627), ('Backend Development', 0.21103322505950928), ('Machine Learning', 0.20248764753341675)]\n",
      "TensorFlow -> [('Machine Learning', 0.5825698971748352)]\n",
      "Leadership -> [('Soft Skills', 0.34387636184692383)]\n",
      "Docker -> [('Tools & Platforms', 0.5509099364280701), ('Machine Learning', 0.22351060807704926), ('Backend Development', 0.2058756947517395)]\n"
     ]
    }
   ],
   "source": [
    "# Test with the same skill list\n",
    "skills_to_test = [\"Node.js\", \"React\", \"TensorFlow\", \"Leadership\", \"Docker\"]\n",
    "\n",
    "# Categorize each skill into multiple categories\n",
    "for skill in skills_to_test:\n",
    "    categories = categorize_skill_multi(skill)\n",
    "    print(f\"{skill} -> {categories}\")\n"
   ]
  }
 ],
 "metadata": {
  "kernelspec": {
   "display_name": "Python 3 (ipykernel)",
   "language": "python",
   "name": "python3"
  },
  "language_info": {
   "codemirror_mode": {
    "name": "ipython",
    "version": 3
   },
   "file_extension": ".py",
   "mimetype": "text/x-python",
   "name": "python",
   "nbconvert_exporter": "python",
   "pygments_lexer": "ipython3",
   "version": "3.12.0"
  }
 },
 "nbformat": 4,
 "nbformat_minor": 5
}
