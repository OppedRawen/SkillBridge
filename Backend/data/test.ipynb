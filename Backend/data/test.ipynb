{
 "cells": [
  {
   "cell_type": "code",
   "execution_count": 12,
   "id": "f19de4f9-7cf6-4a67-ad8d-d4802bd0ff9f",
   "metadata": {},
   "outputs": [],
   "source": [
    "import os\n",
    "import json"
   ]
  },
  {
   "cell_type": "code",
   "execution_count": 15,
   "id": "708e5fdd-f0c4-4f0e-8627-c38224485cd9",
   "metadata": {},
   "outputs": [],
   "source": [
    "import spacy\n",
    "from sentence_transformers import SentenceTransformer,util\n",
    "import PyPDF2\n"
   ]
  },
  {
   "cell_type": "code",
   "execution_count": 3,
   "id": "21b4d553-4e5d-4b15-93da-253234918920",
   "metadata": {},
   "outputs": [],
   "source": [
    "sentence_model = SentenceTransformer(\"fine_tuned_sentence_transformer2\")"
   ]
  },
  {
   "cell_type": "code",
   "execution_count": 5,
   "id": "16140fb1-d225-45f8-bd0f-19fcfef06284",
   "metadata": {},
   "outputs": [],
   "source": [
    "def parse_resume_pdf(pdf_file_path:str)->str:\n",
    "\n",
    "    if not os.path.exists(pdf_file_path):\n",
    "        raise FileNotFoundError(f\"File at path {pdf_file_path} not found\")\n",
    "    \n",
    "    text_content=[]\n",
    "    with open(pdf_file_path,'rb') as file:\n",
    "        pdf_reader = PyPDF2.PdfReader(file)\n",
    "\n",
    "        for page in pdf_reader.pages:\n",
    "            page_text = page.extract_text()\n",
    "            if page_text:\n",
    "                text_content.append(page_text.strip())\n",
    "\n",
    "    return '\\n'.join(text_content)"
   ]
  },
  {
   "cell_type": "code",
   "execution_count": 7,
   "id": "af3ce1ca-6427-43f8-869f-7b1c357297a9",
   "metadata": {},
   "outputs": [],
   "source": [
    "resumeText =parse_resume_pdf(\"../assets/Jake_s_Resume.pdf\")"
   ]
  },
  {
   "cell_type": "code",
   "execution_count": 17,
   "id": "d0fb81a3-25bd-4a93-8781-fdf43582ca6a",
   "metadata": {},
   "outputs": [
    {
     "data": {
      "text/plain": [
       "'Dawei Yu\\n626-662-3120 |yud2372@gmail.com |linkedin.com/in/dawei-yu |github.com/OppedRawen |Portfolio\\nEducation\\nIrvine Valley College Irvine, CA\\nAssociate of Science in Computer Science Aug. 2021 – May 2024\\nUC Irvine Division of Continuing Education Irvine, CA\\nCertificate in Full Stack Web Development Dec. 2022 – June 2023\\nExperience\\nSoftware Development Project Lead Jan. 2023 – Present\\nIrvine Valley College Computer Science Club Irvine, CA\\n•Developed a front-end portfolio application using React, Firebase, and Tailwind, successfully attracting company\\nsponsorship s due to its standout user interface and features\\n•Coordinated 2 web development projects, teaching and providing guidance for students in project management and\\nteam collaborations\\n•Conducted and led coding workshops focused on web development, teaching concepts for JavaScript and React.js\\nNoodle Line Cook Mar. 2023 – Present\\nDin Tai Fung Costa Mesa, CA\\n•Collaborated with team members to optimize kitchen workflow at the highest volume location within the\\nrestaurants chain, serving over 1800 customers a day.\\n•Maintained high standards of quality and consistency for food and adhering to strict guidelines\\n•Managed multiple tasks and priorities simultaneously to ensure timely completion of orders\\nProjects\\nUrSpace |Javascript, Redux, React, MongoDB, GraphQL May 2023 – June 2023\\n•Effectively using Agile methodologies in a team of 4 to develop a comprehensive social media application with\\nbuilt-in music player functionality, allowing users to discover, listen to, and save music to personalized playlists.\\n•Utilized GraphQL for optimized data querying, minimizing over-fetching and data transfer efficiency\\n•Integrated Shazam API to implement a music discovery feature that allows users to listen to and save music to\\nplaylist\\n•Incorporated Tailwind CSS to enhance styling productivity, and Redux for state management\\nMarketPlace |Stripe API, MVC, Javascript, MySQL, Git Feb. 2023 – Mar. 2023\\n•Designed and implemented a user-friendly interface for product browsing, adding items to cart, and secure checkout\\nusing Designed and implemented Stripe API\\n•Successfully applied the MVC(Model-View-Controller) software design pattern, ensuring a well-structured and\\nmaintainable codebase\\n•Designed a system for users to customize their profiles, enhancing user engagement and platform usability\\nIVCCSHub |React, Tailwind, Firebase, Javascript Oct. 2023 – Oct. 2023\\n•Designed an interactive front-end application highlighting the activities, events, and projects of the CS club at\\nIrvine Valley College\\n•Significantly increased new member attraction, contributing to a noticeable growth in club membership.\\n•Attracted company sponsorships through the professional and innovative presentation of the club and its activities\\nTechnical Skills\\nLanguages : JavaScript, TypeScript, Java, Python, C/C++, NoSQL (MongoDB, Firbase, Redis), SQL(MySQL),\\nHTML/CSS\\nFrameworks/Libraries : React, Node.js, Express.js, GraphQL, Next.js, Redux, FastAPI, Pandas, Matplotlib, Json Web\\nToken\\nDeveloper Tools : Git, Heroku, Google Cloud Platform, VS Code, PyCharm, IntelliJ\\nConcepts : Object-Oriented Programming, Data Structures and Algorithm, Agile'"
      ]
     },
     "execution_count": 17,
     "metadata": {},
     "output_type": "execute_result"
    }
   ],
   "source": [
    "resumeText"
   ]
  },
  {
   "cell_type": "code",
   "execution_count": 10,
   "id": "06df4629-d5b6-4255-ac83-718a932d2857",
   "metadata": {},
   "outputs": [],
   "source": [
    "# Convert the resume text into sentence embeddings using the Sentence Transformer\n",
    "resume_embedding = sentence_model.encode(resumeText, convert_to_tensor=True)\n"
   ]
  },
  {
   "cell_type": "code",
   "execution_count": 19,
   "id": "f0c1604b-32f3-4717-a4a0-4e711cceecda",
   "metadata": {},
   "outputs": [
    {
     "name": "stdout",
     "output_type": "stream",
     "text": [
      "Matched Skills: ['atlassian jira', 'adobe systems adobe flash player', 'javascript', 'computer aided software engineering case tools', 'adobe systems adobe flash', 'github', 'ruby on rails', 'adobe systems adobe flex', 'backbone.js', 'ext js', 'adxstudio, for microsoft', 'mobile application software', 'high-performance software libraries', 'usability testing software', 'palo alto networks next-generation security platform', 'microsoft silverlight', 'ext js', 'xcode', 'atlassian confluence', 'jetbrains phpstorm', 'meteorjs', 'phantomjs', 'requirejs', 'zend framework', 'jetbrains intellij idea', 'experience in software project kickstart', 'web2project', 'open source matters joomla!', 'sound development software', 'rapid application development rad software', \"chempute software engineer's aide sinet\", 'think3 thinkdesign engineering', 'texas instruments code composer studio ccstudio', 'analysis and building software', 'adobe systems adobe audition', 'fund software atids', 'phonegap', 'apache software foundation flex', 'code libraries', 'component libraries', 'dx studio', 'e-on software vue', 'javamin composer', 'noteworthy software noteworthy composer', 'apple garageband', 'studiocloud', 'propeller multimedia react2', 'adobe systems adobe contribute', 'ios development', 'vue', 'ruby on rails', 'javascript', 'typescript']\n"
     ]
    }
   ],
   "source": [
    "with open(\"new_skills.json\", \"r\") as f:\n",
    "    skills_data = json.load(f)\n",
    "\n",
    "# Extract skill names for comparison\n",
    "skills_list = [skill[\"name\"] for skill in skills_data[\"skills\"]]\n",
    "skill_embeddings = sentence_model.encode(skills_list, convert_to_tensor=True)\n",
    "\n",
    "# Calculate cosine similarity between resume and each skill\n",
    "similarity_scores = util.pytorch_cos_sim(resume_embedding, skill_embeddings)[0]\n",
    "threshold = 0.3  # Adjust the threshold as needed\n",
    "\n",
    "# Identify matched skills\n",
    "matched_skills = [\n",
    "    skills_list[i]\n",
    "    for i in range(len(similarity_scores))\n",
    "    if similarity_scores[i] > threshold\n",
    "]\n",
    "\n",
    "print(\"Matched Skills:\", matched_skills)"
   ]
  },
  {
   "cell_type": "code",
   "execution_count": null,
   "id": "2b932fc3-4c1d-4316-ad04-164ad7480e0b",
   "metadata": {},
   "outputs": [],
   "source": []
  }
 ],
 "metadata": {
  "kernelspec": {
   "display_name": "Python 3 (ipykernel)",
   "language": "python",
   "name": "python3"
  },
  "language_info": {
   "codemirror_mode": {
    "name": "ipython",
    "version": 3
   },
   "file_extension": ".py",
   "mimetype": "text/x-python",
   "name": "python",
   "nbconvert_exporter": "python",
   "pygments_lexer": "ipython3",
   "version": "3.11.9"
  }
 },
 "nbformat": 4,
 "nbformat_minor": 5
}
