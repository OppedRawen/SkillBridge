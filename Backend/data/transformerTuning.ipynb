{
 "cells": [
  {
   "cell_type": "code",
   "execution_count": 1,
   "id": "75f8c57d-f8fd-4619-b054-f54f852b3dbe",
   "metadata": {},
   "outputs": [],
   "source": [
    "import pandas as pd\n",
    "\n",
    "\n",
    "\n"
   ]
  },
  {
   "cell_type": "code",
   "execution_count": 2,
   "id": "6246e474-6558-482b-94f2-a62bb0740781",
   "metadata": {},
   "outputs": [],
   "source": [
    "# Load datasets\n",
    "df_resumes = pd.read_csv(\"UpdatedResumeDataSet.csv\")\n",
    "df_jobs = pd.read_csv(\"job_title_des.csv\")"
   ]
  },
  {
   "cell_type": "code",
   "execution_count": 3,
   "id": "b7af85e4-16e0-442c-a770-f715479a6a97",
   "metadata": {},
   "outputs": [
    {
     "name": "stderr",
     "output_type": "stream",
     "text": [
      "C:\\Users\\David Yu\\SkillgapAnalyis2\\SkillGapAnalysis\\Backend\\venv\\Lib\\site-packages\\tqdm\\auto.py:21: TqdmWarning: IProgress not found. Please update jupyter and ipywidgets. See https://ipywidgets.readthedocs.io/en/stable/user_install.html\n",
      "  from .autonotebook import tqdm as notebook_tqdm\n"
     ]
    }
   ],
   "source": [
    "from sentence_transformers import InputExample\n",
    "\n",
    "train_examples = []\n",
    "\n",
    "# Create positive pairs for the same category\n",
    "for index, row in df_resumes.iterrows():\n",
    "    # Match resume with job description of the same category\n",
    "    job_match = df_jobs[df_jobs['Job Title'].str.contains(row['Category'], case=False, na=False)]\n",
    "    for _, job_row in job_match.iterrows():\n",
    "        train_examples.append(InputExample(\n",
    "            texts=[row['Resume'], job_row['Job Description']],\n",
    "            label=1.0\n",
    "        ))\n",
    "\n",
    "# Create negative pairs by shuffling\n",
    "import random\n",
    "for index, row in df_resumes.iterrows():\n",
    "    random_job = df_jobs.sample(n=1).iloc[0]\n",
    "    train_examples.append(InputExample(\n",
    "        texts=[row['Resume'], random_job['Job Description']],\n",
    "        label=0.0\n",
    "    ))\n"
   ]
  },
  {
   "cell_type": "code",
   "execution_count": 4,
   "id": "4ebb7d78-3d60-48e0-a541-7db74d453afd",
   "metadata": {},
   "outputs": [],
   "source": [
    "from sentence_transformers import SentenceTransformer, losses\n",
    "from torch.utils.data import DataLoader\n",
    "from datasets import Dataset\n",
    "from accelerate import Accelerator\n",
    "import torch\n",
    "\n",
    "# Load model\n",
    "model = SentenceTransformer(\"all-mpnet-base-v2\")\n",
    "\n",
    "# Prepare data loader for fine-tuning\n",
    "train_dataloader = DataLoader(train_examples, batch_size=16, shuffle=True)\n",
    "\n",
    "# Cosine Similarity Loss for fine-tuning\n",
    "train_loss = losses.CosineSimilarityLoss(model)\n"
   ]
  },
  {
   "cell_type": "code",
   "execution_count": 5,
   "id": "3183d66a-feda-4b10-a834-7a393ea17325",
   "metadata": {},
   "outputs": [],
   "source": [
    "torch.cuda.empty_cache()\n"
   ]
  },
  {
   "cell_type": "code",
   "execution_count": 6,
   "id": "4b6eb729-af54-448f-b3e8-06baae984d05",
   "metadata": {},
   "outputs": [
    {
     "data": {
      "text/html": [
       "\n",
       "    <div>\n",
       "      \n",
       "      <progress value='5175' max='5175' style='width:300px; height:20px; vertical-align: middle;'></progress>\n",
       "      [5175/5175 10:03:17, Epoch 3/3]\n",
       "    </div>\n",
       "    <table border=\"1\" class=\"dataframe\">\n",
       "  <thead>\n",
       " <tr style=\"text-align: left;\">\n",
       "      <th>Step</th>\n",
       "      <th>Training Loss</th>\n",
       "    </tr>\n",
       "  </thead>\n",
       "  <tbody>\n",
       "    <tr>\n",
       "      <td>500</td>\n",
       "      <td>0.020800</td>\n",
       "    </tr>\n",
       "    <tr>\n",
       "      <td>1000</td>\n",
       "      <td>0.002700</td>\n",
       "    </tr>\n",
       "    <tr>\n",
       "      <td>1500</td>\n",
       "      <td>0.002700</td>\n",
       "    </tr>\n",
       "    <tr>\n",
       "      <td>2000</td>\n",
       "      <td>0.001700</td>\n",
       "    </tr>\n",
       "    <tr>\n",
       "      <td>2500</td>\n",
       "      <td>0.001800</td>\n",
       "    </tr>\n",
       "    <tr>\n",
       "      <td>3000</td>\n",
       "      <td>0.002100</td>\n",
       "    </tr>\n",
       "    <tr>\n",
       "      <td>3500</td>\n",
       "      <td>0.001200</td>\n",
       "    </tr>\n",
       "    <tr>\n",
       "      <td>4000</td>\n",
       "      <td>0.001100</td>\n",
       "    </tr>\n",
       "    <tr>\n",
       "      <td>4500</td>\n",
       "      <td>0.000800</td>\n",
       "    </tr>\n",
       "    <tr>\n",
       "      <td>5000</td>\n",
       "      <td>0.001100</td>\n",
       "    </tr>\n",
       "  </tbody>\n",
       "</table><p>"
      ],
      "text/plain": [
       "<IPython.core.display.HTML object>"
      ]
     },
     "metadata": {},
     "output_type": "display_data"
    },
    {
     "name": "stderr",
     "output_type": "stream",
     "text": [
      "                                                                                "
     ]
    }
   ],
   "source": [
    "# Fine-tune the model\n",
    "model.to('cuda')\n",
    "\n",
    "model.fit(\n",
    "    train_objectives=[(train_dataloader, train_loss)],\n",
    "    epochs=3,\n",
    "    warmup_steps=100,\n",
    "    show_progress_bar=True,\n",
    "    use_amp = True\n",
    "    )\n",
    "# Save the fine-tuned model\n",
    "model.save(\"fine_tuned_sentence_transformer2\")\n"
   ]
  },
  {
   "cell_type": "code",
   "execution_count": null,
   "id": "3a35bc87-6bc8-413e-ad1e-75795568ef10",
   "metadata": {},
   "outputs": [],
   "source": []
  }
 ],
 "metadata": {
  "kernelspec": {
   "display_name": "Python 3 (ipykernel)",
   "language": "python",
   "name": "python3"
  },
  "language_info": {
   "codemirror_mode": {
    "name": "ipython",
    "version": 3
   },
   "file_extension": ".py",
   "mimetype": "text/x-python",
   "name": "python",
   "nbconvert_exporter": "python",
   "pygments_lexer": "ipython3",
   "version": "3.11.9"
  }
 },
 "nbformat": 4,
 "nbformat_minor": 5
}
